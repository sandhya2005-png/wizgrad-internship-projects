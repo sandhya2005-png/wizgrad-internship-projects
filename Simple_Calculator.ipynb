{
  "nbformat": 4,
  "nbformat_minor": 0,
  "metadata": {
    "colab": {
      "provenance": [],
      "authorship_tag": "ABX9TyOc9kdpARlhSkSVZqel54fj",
      "include_colab_link": true
    },
    "kernelspec": {
      "name": "python3",
      "display_name": "Python 3"
    },
    "language_info": {
      "name": "python"
    }
  },
  "cells": [
    {
      "cell_type": "markdown",
      "metadata": {
        "id": "view-in-github",
        "colab_type": "text"
      },
      "source": [
        "<a href=\"https://colab.research.google.com/github/sandhya2005-png/wizgrad-internship-projects/blob/main/Simple_Calculator.ipynb\" target=\"_parent\"><img src=\"https://colab.research.google.com/assets/colab-badge.svg\" alt=\"Open In Colab\"/></a>"
      ]
    },
    {
      "cell_type": "code",
      "execution_count": 1,
      "metadata": {
        "id": "iCQv1xT4yPFI"
      },
      "outputs": [],
      "source": [
        "class calc:\n",
        "  def __init__(self):\n",
        "    self.value1=0\n",
        "    self.value2=0\n",
        "  def get_input(self):\n",
        "    while True:\n",
        "      try:\n",
        "        self.value1=float(input(\"Enter First number:\"))\n",
        "        self.value2=float(input(\"Enter Second number:\"))\n",
        "        return\n",
        "      except ValueError:\n",
        "        print(\"Please Enter valid numbers\")\n",
        "\n",
        "  def add(self):\n",
        "    return self.value1+self.value2\n",
        "\n",
        "  def sub(self):\n",
        "    return self.value1-self.value2\n",
        "\n",
        "  def mul(self):\n",
        "    return self.value1*self.value2\n",
        "\n",
        "  def div(self):\n",
        "    try:\n",
        "      return self.value1/self.value2\n",
        "    except ZeroDivisionError:\n",
        "      print(\"Cannot divide by zero\")\n",
        "\n",
        "\n",
        ""
      ]
    },
    {
      "cell_type": "code",
      "source": [
        "from types import new_class\n",
        "cal=calc()\n",
        "while True:\n",
        "  print(\"Select an option:\")\n",
        "  print(\"1 for addition\")\n",
        "  print(\"2 for subtraction\")\n",
        "  print(\"3 for multiplication\")\n",
        "  print(\"4 for division\")\n",
        "\n",
        "  op=input(\"Enter your Option:\")\n",
        "\n",
        "  if op in ('1','2','3','4'):\n",
        "    cal.get_input()\n",
        "    if op=='1':\n",
        "      result=cal.add()\n",
        "      print(\"Result:\",result)\n",
        "    elif op=='2':\n",
        "      result=cal.sub()\n",
        "      print(\"Result:\",result)\n",
        "    elif op=='3':\n",
        "      result=cal.mul()\n",
        "      print(\"Result:\",result)\n",
        "    elif op=='4':\n",
        "      result=cal.div()\n",
        "      print(\"Result:\",result)\n",
        "  else:\n",
        "    print(\"Invalid Option\")\n",
        "\n",
        "  new_class=input(\"Do you want to continue(y/n):\")\n",
        "  if new_class.lower()=='n':\n",
        "    break"
      ],
      "metadata": {
        "colab": {
          "base_uri": "https://localhost:8080/"
        },
        "id": "cS4hajUp0WbQ",
        "outputId": "bc72498b-168a-4760-b43e-c3ac48199aec"
      },
      "execution_count": 5,
      "outputs": [
        {
          "name": "stdout",
          "output_type": "stream",
          "text": [
            "Select an option:\n",
            "1 for addition\n",
            "2 for subtraction\n",
            "3 for multiplication\n",
            "4 for division\n",
            "Enter your Option:1\n",
            "Enter First number:25\n",
            "Enter Second number:25\n",
            "Result: 50.0\n",
            "Do you want to continue(y/n):y\n",
            "Select an option:\n",
            "1 for addition\n",
            "2 for subtraction\n",
            "3 for multiplication\n",
            "4 for division\n",
            "Enter your Option:2\n",
            "Enter First number:25-3\n",
            "Please Enter valid numbers\n",
            "Enter First number:25\n",
            "Enter Second number:4\n",
            "Result: 21.0\n",
            "Do you want to continue(y/n):n\n"
          ]
        }
      ]
    }
  ]
}